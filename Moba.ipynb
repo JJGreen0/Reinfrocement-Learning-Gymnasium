{
 "cells": [
  {
   "cell_type": "code",
   "execution_count": 1,
   "id": "49227597-1e10-452e-ac53-b6395e3494da",
   "metadata": {
    "collapsed": true,
    "jupyter": {
     "outputs_hidden": true
    },
    "tags": []
   },
   "outputs": [
    {
     "name": "stdout",
     "output_type": "stream",
     "text": [
      "Collecting gym-derk\n",
      "  Obtaining dependency information for gym-derk from https://files.pythonhosted.org/packages/34/3f/1ddfa3ca72ab69d688761f56d097c8a4e43991bf3cdf867a74f9138ee5a9/gym_derk-1.1.1-py3-none-any.whl.metadata\n",
      "  Downloading gym_derk-1.1.1-py3-none-any.whl.metadata (570 bytes)\n",
      "Collecting pyppeteer (from gym-derk)\n",
      "  Obtaining dependency information for pyppeteer from https://files.pythonhosted.org/packages/3d/ee/fb2757a38025421fd3844a0ed0a230b78c9c04a66355024436cf3005a70c/pyppeteer-2.0.0-py3-none-any.whl.metadata\n",
      "  Downloading pyppeteer-2.0.0-py3-none-any.whl.metadata (7.1 kB)\n",
      "Requirement already satisfied: gym in c:\\users\\josh\\anaconda3\\lib\\site-packages (from gym-derk) (0.26.2)\n",
      "Requirement already satisfied: numpy in c:\\users\\josh\\anaconda3\\lib\\site-packages (from gym-derk) (1.24.3)\n",
      "Collecting websockets (from gym-derk)\n",
      "  Obtaining dependency information for websockets from https://files.pythonhosted.org/packages/d1/40/6b169cd1957476374f51f4486a3e85003149e62a14e6b78a958c2222337a/websockets-12.0-cp311-cp311-win_amd64.whl.metadata\n",
      "  Downloading websockets-12.0-cp311-cp311-win_amd64.whl.metadata (6.8 kB)\n",
      "Requirement already satisfied: cloudpickle>=1.2.0 in c:\\users\\josh\\anaconda3\\lib\\site-packages (from gym->gym-derk) (2.2.1)\n",
      "Requirement already satisfied: gym-notices>=0.0.4 in c:\\users\\josh\\anaconda3\\lib\\site-packages (from gym->gym-derk) (0.0.8)\n",
      "Requirement already satisfied: appdirs<2.0.0,>=1.4.3 in c:\\users\\josh\\anaconda3\\lib\\site-packages (from pyppeteer->gym-derk) (1.4.4)\n",
      "Requirement already satisfied: certifi>=2023 in c:\\users\\josh\\anaconda3\\lib\\site-packages (from pyppeteer->gym-derk) (2023.7.22)\n",
      "Requirement already satisfied: importlib-metadata>=1.4 in c:\\users\\josh\\anaconda3\\lib\\site-packages (from pyppeteer->gym-derk) (6.0.0)\n",
      "Collecting pyee<12.0.0,>=11.0.0 (from pyppeteer->gym-derk)\n",
      "  Obtaining dependency information for pyee<12.0.0,>=11.0.0 from https://files.pythonhosted.org/packages/16/cc/5cea8a0a0d3deb90b5a0d39ad1a6a1ccaa40a9ea86d793eb8a49d32a6ed0/pyee-11.1.0-py3-none-any.whl.metadata\n",
      "  Downloading pyee-11.1.0-py3-none-any.whl.metadata (2.8 kB)\n",
      "Requirement already satisfied: tqdm<5.0.0,>=4.42.1 in c:\\users\\josh\\anaconda3\\lib\\site-packages (from pyppeteer->gym-derk) (4.65.0)\n",
      "Requirement already satisfied: urllib3<2.0.0,>=1.25.8 in c:\\users\\josh\\anaconda3\\lib\\site-packages (from pyppeteer->gym-derk) (1.26.16)\n",
      "Collecting websockets (from gym-derk)\n",
      "  Obtaining dependency information for websockets from https://files.pythonhosted.org/packages/27/bb/6327e8c7d4dd7d5b450b409a461be278968ce05c54da13da581ac87661db/websockets-10.4-cp311-cp311-win_amd64.whl.metadata\n",
      "  Downloading websockets-10.4-cp311-cp311-win_amd64.whl.metadata (6.4 kB)\n",
      "Requirement already satisfied: zipp>=0.5 in c:\\users\\josh\\anaconda3\\lib\\site-packages (from importlib-metadata>=1.4->pyppeteer->gym-derk) (3.11.0)\n",
      "Requirement already satisfied: typing-extensions in c:\\users\\josh\\anaconda3\\lib\\site-packages (from pyee<12.0.0,>=11.0.0->pyppeteer->gym-derk) (4.10.0)\n",
      "Requirement already satisfied: colorama in c:\\users\\josh\\anaconda3\\lib\\site-packages (from tqdm<5.0.0,>=4.42.1->pyppeteer->gym-derk) (0.4.6)\n",
      "Downloading gym_derk-1.1.1-py3-none-any.whl (7.2 MB)\n",
      "   ---------------------------------------- 0.0/7.2 MB ? eta -:--:--\n",
      "   - -------------------------------------- 0.2/7.2 MB 5.0 MB/s eta 0:00:02\n",
      "   ---- ----------------------------------- 0.8/7.2 MB 8.2 MB/s eta 0:00:01\n",
      "   ------- -------------------------------- 1.3/7.2 MB 9.3 MB/s eta 0:00:01\n",
      "   ----------- ---------------------------- 2.0/7.2 MB 10.8 MB/s eta 0:00:01\n",
      "   --------------- ------------------------ 2.8/7.2 MB 12.5 MB/s eta 0:00:01\n",
      "   ----------------- ---------------------- 3.1/7.2 MB 12.5 MB/s eta 0:00:01\n",
      "   ----------------- ---------------------- 3.1/7.2 MB 12.5 MB/s eta 0:00:01\n",
      "   ------------------ --------------------- 3.3/7.2 MB 8.9 MB/s eta 0:00:01\n",
      "   ---------------------- ----------------- 4.0/7.2 MB 9.8 MB/s eta 0:00:01\n",
      "   ------------------------- -------------- 4.5/7.2 MB 9.9 MB/s eta 0:00:01\n",
      "   ------------------------------ --------- 5.5/7.2 MB 10.9 MB/s eta 0:00:01\n",
      "   ----------------------------------- ---- 6.3/7.2 MB 11.5 MB/s eta 0:00:01\n",
      "   ------------------------------------- -- 6.8/7.2 MB 11.4 MB/s eta 0:00:01\n",
      "   ---------------------------------------  7.2/7.2 MB 11.4 MB/s eta 0:00:01\n",
      "   ---------------------------------------- 7.2/7.2 MB 10.6 MB/s eta 0:00:00\n",
      "Downloading pyppeteer-2.0.0-py3-none-any.whl (82 kB)\n",
      "   ---------------------------------------- 0.0/82.9 kB ? eta -:--:--\n",
      "   ---------------------------------------- 82.9/82.9 kB ? eta 0:00:00\n",
      "Downloading websockets-10.4-cp311-cp311-win_amd64.whl (101 kB)\n",
      "   ---------------------------------------- 0.0/101.4 kB ? eta -:--:--\n",
      "   ---------------------------------------- 101.4/101.4 kB 5.7 MB/s eta 0:00:00\n",
      "Downloading pyee-11.1.0-py3-none-any.whl (15 kB)\n",
      "Installing collected packages: websockets, pyee, pyppeteer, gym-derk\n",
      "Successfully installed gym-derk-1.1.1 pyee-11.1.0 pyppeteer-2.0.0 websockets-10.4\n"
     ]
    }
   ],
   "source": [
    "!pip install gym-derk"
   ]
  },
  {
   "cell_type": "code",
   "execution_count": 3,
   "id": "ac8cf1ba-b4f4-4307-93a2-0938fdea959e",
   "metadata": {
    "tags": []
   },
   "outputs": [],
   "source": [
    "from gym_derk.envs import DerkEnv"
   ]
  },
  {
   "cell_type": "code",
   "execution_count": 8,
   "id": "ba1c0b4b-6dbb-4f8d-8da4-cf59d0d1ba06",
   "metadata": {
    "tags": []
   },
   "outputs": [
    {
     "ename": "RuntimeError",
     "evalue": "This event loop is already running",
     "output_type": "error",
     "traceback": [
      "\u001b[1;31m---------------------------------------------------------------------------\u001b[0m",
      "\u001b[1;31mRuntimeError\u001b[0m                              Traceback (most recent call last)",
      "Cell \u001b[1;32mIn[8], line 3\u001b[0m\n\u001b[0;32m      1\u001b[0m \u001b[38;5;28;01mfrom\u001b[39;00m \u001b[38;5;21;01mgym_derk\u001b[39;00m\u001b[38;5;21;01m.\u001b[39;00m\u001b[38;5;21;01menvs\u001b[39;00m \u001b[38;5;28;01mimport\u001b[39;00m DerkEnv\n\u001b[1;32m----> 3\u001b[0m env \u001b[38;5;241m=\u001b[39m DerkEnv()\n\u001b[0;32m      5\u001b[0m \u001b[38;5;28;01mfor\u001b[39;00m t \u001b[38;5;129;01min\u001b[39;00m \u001b[38;5;28mrange\u001b[39m(\u001b[38;5;241m3\u001b[39m):\n\u001b[0;32m      6\u001b[0m   observation_n \u001b[38;5;241m=\u001b[39m env\u001b[38;5;241m.\u001b[39mreset()\n",
      "File \u001b[1;32m~\\anaconda3\\Lib\\site-packages\\gym_derk\\envs\\derk_env.py:66\u001b[0m, in \u001b[0;36mDerkEnv.__init__\u001b[1;34m(self, mode, n_arenas, reward_function, turbo_mode, home_team, away_team, session_args, app_args, agent_server_args)\u001b[0m\n\u001b[0;32m     64\u001b[0m \u001b[38;5;28mself\u001b[39m\u001b[38;5;241m.\u001b[39mlogger \u001b[38;5;241m=\u001b[39m logger\u001b[38;5;241m.\u001b[39mgetChild(\u001b[38;5;124m'\u001b[39m\u001b[38;5;124mDerkEnv(\u001b[39m\u001b[38;5;132;01m{}\u001b[39;00m\u001b[38;5;124m)\u001b[39m\u001b[38;5;124m'\u001b[39m\u001b[38;5;241m.\u001b[39mformat(agent_server_args[\u001b[38;5;124m'\u001b[39m\u001b[38;5;124mport\u001b[39m\u001b[38;5;124m'\u001b[39m]))\n\u001b[0;32m     65\u001b[0m \u001b[38;5;28mself\u001b[39m\u001b[38;5;241m.\u001b[39mserver \u001b[38;5;241m=\u001b[39m DerkAgentServer(\u001b[38;5;28mself\u001b[39m\u001b[38;5;241m.\u001b[39m_handle_session, \u001b[38;5;241m*\u001b[39m\u001b[38;5;241m*\u001b[39magent_server_args)\n\u001b[1;32m---> 66\u001b[0m asyncio\u001b[38;5;241m.\u001b[39mget_event_loop()\u001b[38;5;241m.\u001b[39mrun_until_complete(\u001b[38;5;28mself\u001b[39m\u001b[38;5;241m.\u001b[39mserver\u001b[38;5;241m.\u001b[39mstart())\n\u001b[0;32m     68\u001b[0m \u001b[38;5;28;01mif\u001b[39;00m \u001b[38;5;124m'\u001b[39m\u001b[38;5;124magent_hosts\u001b[39m\u001b[38;5;124m'\u001b[39m \u001b[38;5;129;01mnot\u001b[39;00m \u001b[38;5;129;01min\u001b[39;00m \u001b[38;5;28mself\u001b[39m\u001b[38;5;241m.\u001b[39msession_args:\n\u001b[0;32m     69\u001b[0m   \u001b[38;5;28;01mif\u001b[39;00m \u001b[38;5;28mself\u001b[39m\u001b[38;5;241m.\u001b[39mmode \u001b[38;5;241m==\u001b[39m \u001b[38;5;124m'\u001b[39m\u001b[38;5;124mconnected\u001b[39m\u001b[38;5;124m'\u001b[39m:\n",
      "File \u001b[1;32m~\\anaconda3\\Lib\\asyncio\\base_events.py:629\u001b[0m, in \u001b[0;36mBaseEventLoop.run_until_complete\u001b[1;34m(self, future)\u001b[0m\n\u001b[0;32m    618\u001b[0m \u001b[38;5;250m\u001b[39m\u001b[38;5;124;03m\"\"\"Run until the Future is done.\u001b[39;00m\n\u001b[0;32m    619\u001b[0m \n\u001b[0;32m    620\u001b[0m \u001b[38;5;124;03mIf the argument is a coroutine, it is wrapped in a Task.\u001b[39;00m\n\u001b[1;32m   (...)\u001b[0m\n\u001b[0;32m    626\u001b[0m \u001b[38;5;124;03mReturn the Future's result, or raise its exception.\u001b[39;00m\n\u001b[0;32m    627\u001b[0m \u001b[38;5;124;03m\"\"\"\u001b[39;00m\n\u001b[0;32m    628\u001b[0m \u001b[38;5;28mself\u001b[39m\u001b[38;5;241m.\u001b[39m_check_closed()\n\u001b[1;32m--> 629\u001b[0m \u001b[38;5;28mself\u001b[39m\u001b[38;5;241m.\u001b[39m_check_running()\n\u001b[0;32m    631\u001b[0m new_task \u001b[38;5;241m=\u001b[39m \u001b[38;5;129;01mnot\u001b[39;00m futures\u001b[38;5;241m.\u001b[39misfuture(future)\n\u001b[0;32m    632\u001b[0m future \u001b[38;5;241m=\u001b[39m tasks\u001b[38;5;241m.\u001b[39mensure_future(future, loop\u001b[38;5;241m=\u001b[39m\u001b[38;5;28mself\u001b[39m)\n",
      "File \u001b[1;32m~\\anaconda3\\Lib\\asyncio\\base_events.py:588\u001b[0m, in \u001b[0;36mBaseEventLoop._check_running\u001b[1;34m(self)\u001b[0m\n\u001b[0;32m    586\u001b[0m \u001b[38;5;28;01mdef\u001b[39;00m \u001b[38;5;21m_check_running\u001b[39m(\u001b[38;5;28mself\u001b[39m):\n\u001b[0;32m    587\u001b[0m     \u001b[38;5;28;01mif\u001b[39;00m \u001b[38;5;28mself\u001b[39m\u001b[38;5;241m.\u001b[39mis_running():\n\u001b[1;32m--> 588\u001b[0m         \u001b[38;5;28;01mraise\u001b[39;00m \u001b[38;5;167;01mRuntimeError\u001b[39;00m(\u001b[38;5;124m'\u001b[39m\u001b[38;5;124mThis event loop is already running\u001b[39m\u001b[38;5;124m'\u001b[39m)\n\u001b[0;32m    589\u001b[0m     \u001b[38;5;28;01mif\u001b[39;00m events\u001b[38;5;241m.\u001b[39m_get_running_loop() \u001b[38;5;129;01mis\u001b[39;00m \u001b[38;5;129;01mnot\u001b[39;00m \u001b[38;5;28;01mNone\u001b[39;00m:\n\u001b[0;32m    590\u001b[0m         \u001b[38;5;28;01mraise\u001b[39;00m \u001b[38;5;167;01mRuntimeError\u001b[39;00m(\n\u001b[0;32m    591\u001b[0m             \u001b[38;5;124m'\u001b[39m\u001b[38;5;124mCannot run the event loop while another loop is running\u001b[39m\u001b[38;5;124m'\u001b[39m)\n",
      "\u001b[1;31mRuntimeError\u001b[0m: This event loop is already running"
     ]
    }
   ],
   "source": [
    "from gym_derk.envs import DerkEnv\n",
    "\n",
    "env = DerkEnv()\n",
    "\n",
    "for t in range(3):\n",
    "  observation_n = env.reset()\n",
    "  while True:\n",
    "    action_n = [env.action_space.sample() for i in range(env.n_agents)]\n",
    "    observation_n, reward_n, done_n, info = env.step(action_n)\n",
    "    if all(done_n):\n",
    "      print(\"Episode finished\")\n",
    "      break\n",
    "env.close()"
   ]
  },
  {
   "cell_type": "code",
   "execution_count": 5,
   "id": "08abf15a-b838-401f-a693-87d9c5d656ba",
   "metadata": {},
   "outputs": [
    {
     "ename": "NameError",
     "evalue": "name 'env' is not defined",
     "output_type": "error",
     "traceback": [
      "\u001b[1;31m---------------------------------------------------------------------------\u001b[0m",
      "\u001b[1;31mNameError\u001b[0m                                 Traceback (most recent call last)",
      "Cell \u001b[1;32mIn[5], line 1\u001b[0m\n\u001b[1;32m----> 1\u001b[0m observation_n \u001b[38;5;241m=\u001b[39m env\u001b[38;5;241m.\u001b[39mreset()\n\u001b[0;32m      3\u001b[0m \u001b[38;5;28;01mwhile\u001b[39;00m \u001b[38;5;28;01mTrue\u001b[39;00m:\n\u001b[0;32m      4\u001b[0m   \u001b[38;5;66;03m# Take random actions each step\u001b[39;00m\n\u001b[0;32m      5\u001b[0m   action_n \u001b[38;5;241m=\u001b[39m [env\u001b[38;5;241m.\u001b[39maction_space\u001b[38;5;241m.\u001b[39msample() \u001b[38;5;28;01mfor\u001b[39;00m i \u001b[38;5;129;01min\u001b[39;00m \u001b[38;5;28mrange\u001b[39m(env\u001b[38;5;241m.\u001b[39mn_agents)]\n",
      "\u001b[1;31mNameError\u001b[0m: name 'env' is not defined"
     ]
    }
   ],
   "source": [
    "observation_n = env.reset()\n",
    "\n",
    "while True:\n",
    "  # Take random actions each step\n",
    "  action_n = [env.action_space.sample() for i in range(env.n_agents)]\n",
    "  observation_n, reward_n, done_n, info_n = env.step(action_n)\n",
    "\n",
    "  if all(done_n):\n",
    "    break\n",
    "env.close()\n"
   ]
  },
  {
   "cell_type": "code",
   "execution_count": null,
   "id": "b869f50a-7367-455d-9d9f-7b255200ed5e",
   "metadata": {},
   "outputs": [],
   "source": []
  }
 ],
 "metadata": {
  "kernelspec": {
   "display_name": "Python 3 (ipykernel)",
   "language": "python",
   "name": "python3"
  },
  "language_info": {
   "codemirror_mode": {
    "name": "ipython",
    "version": 3
   },
   "file_extension": ".py",
   "mimetype": "text/x-python",
   "name": "python",
   "nbconvert_exporter": "python",
   "pygments_lexer": "ipython3",
   "version": "3.11.8"
  }
 },
 "nbformat": 4,
 "nbformat_minor": 5
}
