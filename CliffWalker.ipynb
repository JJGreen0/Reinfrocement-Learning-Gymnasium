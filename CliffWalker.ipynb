{
 "cells": [
  {
   "cell_type": "code",
   "execution_count": 18,
   "id": "abf3e55c-bc51-41ca-a927-0eeac6c73425",
   "metadata": {
    "tags": []
   },
   "outputs": [
    {
     "name": "stdout",
     "output_type": "stream",
     "text": [
      "Collecting pygame\n",
      "  Downloading pygame-2.6.1-cp38-cp38-win_amd64.whl.metadata (13 kB)\n",
      "Downloading pygame-2.6.1-cp38-cp38-win_amd64.whl (10.6 MB)\n",
      "   ---------------------------------------- 0.0/10.6 MB ? eta -:--:--\n",
      "   - -------------------------------------- 0.5/10.6 MB 3.4 MB/s eta 0:00:04\n",
      "   --- ------------------------------------ 1.0/10.6 MB 2.5 MB/s eta 0:00:04\n",
      "   ------- -------------------------------- 2.1/10.6 MB 3.8 MB/s eta 0:00:03\n",
      "   ------------- -------------------------- 3.7/10.6 MB 4.4 MB/s eta 0:00:02\n",
      "   --------------- ------------------------ 4.2/10.6 MB 4.6 MB/s eta 0:00:02\n",
      "   ------------------------ --------------- 6.6/10.6 MB 5.2 MB/s eta 0:00:01\n",
      "   ------------------------------- -------- 8.4/10.6 MB 5.9 MB/s eta 0:00:01\n",
      "   ------------------------------------- -- 10.0/10.6 MB 6.0 MB/s eta 0:00:01\n",
      "   ---------------------------------------- 10.6/10.6 MB 6.0 MB/s eta 0:00:00\n",
      "Installing collected packages: pygame\n",
      "Successfully installed pygame-2.6.1\n"
     ]
    }
   ],
   "source": [
    "!pip install pygame"
   ]
  },
  {
   "cell_type": "code",
   "execution_count": 4,
   "id": "4bc772b8-156b-4158-ac37-a589ab991a96",
   "metadata": {
    "tags": []
   },
   "outputs": [],
   "source": [
    "import random\n",
    "import numpy as np"
   ]
  },
  {
   "cell_type": "code",
   "execution_count": 5,
   "id": "590bebca-b9a3-446f-b02d-a95e8718ba9c",
   "metadata": {
    "tags": []
   },
   "outputs": [
    {
     "name": "stdout",
     "output_type": "stream",
     "text": [
      "0\n"
     ]
    }
   ],
   "source": [
    "import gymnasium as gym\n",
    "env = gym.make(\"CliffWalking-v0\", render_mode='human')\n",
    "env.metadata['render_fps'] = 1000\n",
    "\n",
    "action_space_size = env.action_space.n\n",
    "state_space_size = env.observation_space.n\n",
    "\n",
    "q_table = np.zeros((state_space_size, action_space_size))\n",
    "\n",
    "episodes = 500\n",
    "maxstepsperep = 100\n",
    "\n",
    "learning_rate = 0.1\n",
    "discount_rate = 0.99\n",
    "\n",
    "exploration_rate = 1\n",
    "max_exploration_rate = 1\n",
    "min_exploration_rate = 0.01\n",
    "exploration_decay_rate = 0.001\n",
    "\n",
    "TotalFound = 0\n",
    "\n",
    "for episode in range(episodes+1):\n",
    "    \n",
    "    CurrentReward = 0\n",
    "    \n",
    "    state, info = env.reset()\n",
    "    \n",
    "    for _ in range(maxstepsperep):\n",
    "       \n",
    "        exploration_rate_threshold = random.uniform(0, 1)\n",
    "        if exploration_rate_threshold > exploration_rate:\n",
    "            action = np.argmax(q_table[state]) \n",
    "        else:\n",
    "            action = env.action_space.sample()\n",
    "        \n",
    "        new_state, reward, terminated, truncated, info = env.step(action)\n",
    "        \n",
    "        q_table[state, action] = q_table[state, action] * (1 - learning_rate) + learning_rate * (reward + discount_rate * np.max(q_table[new_state, :]))\n",
    "        \n",
    "        state = new_state\n",
    "        CurrentReward += reward\n",
    "        \n",
    "        if terminated or truncated:\n",
    "            break\n",
    "    \n",
    "    \n",
    "    exploration_rate = min_exploration_rate + \\\n",
    "        (max_exploration_rate - min_exploration_rate) * np.exp(-exploration_decay_rate*episode)\n",
    "        \n",
    "    \n",
    "    if episode%1000==0:\n",
    "        print(episode)\n",
    "        TotalFound = 0\n",
    "        \n",
    "env.close()"
   ]
  },
  {
   "cell_type": "code",
   "execution_count": 22,
   "id": "d5709bf4-4461-443d-b16f-28fe136a37ea",
   "metadata": {},
   "outputs": [],
   "source": [
    "env.close()"
   ]
  },
  {
   "cell_type": "code",
   "execution_count": 12,
   "id": "0fa9a421-b072-4214-864b-a307a3069ddd",
   "metadata": {
    "collapsed": true,
    "jupyter": {
     "outputs_hidden": true
    },
    "tags": []
   },
   "outputs": [
    {
     "name": "stdout",
     "output_type": "stream",
     "text": [
      "[[-6.57246345e+00 -6.01171560e+00 -6.27931169e+00 -6.65772325e+00]\n",
      " [-5.78203975e+00 -5.23644383e+00 -5.31217689e+00 -6.71716828e+00]\n",
      " [-5.19004649e+00 -4.40761707e+00 -4.51602301e+00 -5.87778077e+00]\n",
      " [-4.26402309e+00 -3.57950493e+00 -3.61461170e+00 -4.91629152e+00]\n",
      " [-3.43049478e+00 -2.80182192e+00 -3.04131463e+00 -3.88867945e+00]\n",
      " [-2.41747508e+00 -1.95569116e+00 -2.31918061e+00 -3.27761603e+00]\n",
      " [-1.70577352e+00 -1.45332524e+00 -1.54443314e+00 -2.37982704e+00]\n",
      " [-7.97205593e-01 -8.27510389e-01 -1.41269297e+00 -1.68593263e+00]\n",
      " [-4.97394899e-01 -3.83177161e-01 -6.80771477e-01 -5.34805237e-01]\n",
      " [-5.91978347e-01 -6.69664360e-01 -3.53800000e-01 -4.20329990e-01]\n",
      " [-4.37230000e-01 -4.56109310e-01 -3.43900000e-01 -5.44051261e-01]\n",
      " [-2.99700100e-01 -4.60485100e-01 -4.96279000e-01 -3.70729000e-01]\n",
      " [-6.76351532e+00 -5.49927118e+00 -5.95305049e+00 -6.30305342e+00]\n",
      " [-6.01660334e+00 -4.59685749e+00 -5.04570526e+00 -6.28856051e+00]\n",
      " [-5.13158467e+00 -3.80748691e+00 -4.17565410e+00 -5.32910014e+00]\n",
      " [-4.24654170e+00 -3.01855909e+00 -3.35466221e+00 -4.48343793e+00]\n",
      " [-3.50440795e+00 -2.36505469e+00 -2.52456550e+00 -3.50189759e+00]\n",
      " [-1.94871271e+00 -1.84830143e+00 -1.97453358e+00 -2.76728955e+00]\n",
      " [-1.70919371e+00 -1.45551420e+00 -1.26709808e+00 -1.75716856e+00]\n",
      " [-1.24407722e+00 -9.95051802e-01 -1.39553595e+00 -1.32009750e+00]\n",
      " [-3.90744539e-01 -4.45249000e-01 -5.35108780e-01 -1.23215400e+00]\n",
      " [-4.71123284e-01 -3.00582190e-01 -2.89810000e-01 -2.24046100e-01]\n",
      " [-4.31040790e-01 -1.99900000e-01 -2.80900000e-01 -2.08810000e-01]\n",
      " [-4.83892561e-01 -2.80900000e-01 -2.71000000e-01 -1.90000000e-01]\n",
      " [-6.36700046e+00 -5.23219608e+00 -6.98957325e+00 -6.10157353e+00]\n",
      " [-5.35817167e+00 -4.35017032e+00 -1.05896101e+02 -5.98617230e+00]\n",
      " [-4.41463265e+00 -3.53216295e+00 -1.05457572e+02 -4.91434680e+00]\n",
      " [-3.45717189e+00 -2.80871949e+00 -1.03272565e+02 -3.88136817e+00]\n",
      " [-2.56073284e+00 -2.07748831e+00 -9.24054957e+01 -3.08092137e+00]\n",
      " [-2.04046304e+00 -1.36355833e+00 -9.36812830e+01 -2.35108161e+00]\n",
      " [-1.26309747e+00 -1.29782615e+00 -7.54084850e+01 -1.20427227e+00]\n",
      " [-1.05077783e+00 -8.03103724e-01 -6.83838853e+01 -1.22795328e+00]\n",
      " [-6.33994101e-01 -3.53800000e-01 -2.85667225e+01 -7.24594448e-01]\n",
      " [-1.90000000e-01 -1.90000000e-01 -1.04898795e+01 -3.37050926e-01]\n",
      " [-2.00880100e-01 -1.00000000e-01 -1.02882318e+01 -1.00000000e-01]\n",
      " [-2.08810000e-01  0.00000000e+00 -1.90000000e-01  0.00000000e+00]\n",
      " [-6.13512184e+00 -1.06028192e+02 -7.04805149e+00 -7.04308218e+00]\n",
      " [ 0.00000000e+00  0.00000000e+00  0.00000000e+00  0.00000000e+00]\n",
      " [ 0.00000000e+00  0.00000000e+00  0.00000000e+00  0.00000000e+00]\n",
      " [ 0.00000000e+00  0.00000000e+00  0.00000000e+00  0.00000000e+00]\n",
      " [ 0.00000000e+00  0.00000000e+00  0.00000000e+00  0.00000000e+00]\n",
      " [ 0.00000000e+00  0.00000000e+00  0.00000000e+00  0.00000000e+00]\n",
      " [ 0.00000000e+00  0.00000000e+00  0.00000000e+00  0.00000000e+00]\n",
      " [ 0.00000000e+00  0.00000000e+00  0.00000000e+00  0.00000000e+00]\n",
      " [ 0.00000000e+00  0.00000000e+00  0.00000000e+00  0.00000000e+00]\n",
      " [ 0.00000000e+00  0.00000000e+00  0.00000000e+00  0.00000000e+00]\n",
      " [ 0.00000000e+00  0.00000000e+00  0.00000000e+00  0.00000000e+00]\n",
      " [ 0.00000000e+00  0.00000000e+00  0.00000000e+00  0.00000000e+00]]\n"
     ]
    }
   ],
   "source": [
    "print(q_table)"
   ]
  },
  {
   "cell_type": "code",
   "execution_count": 6,
   "id": "6a7db5b6-0572-4a5c-b830-72468f867757",
   "metadata": {},
   "outputs": [
    {
     "name": "stdout",
     "output_type": "stream",
     "text": [
      "FOUND\n",
      "FOUND\n",
      "FOUND\n"
     ]
    }
   ],
   "source": [
    "import gymnasium as gym\n",
    "env = gym.make(\"CliffWalking-v0\", render_mode='human')\n",
    "env.metadata['render_fps'] = 3\n",
    "\n",
    "episodes = 3\n",
    "\n",
    "for episode in range(episodes):\n",
    "\n",
    "    state, info = env.reset()\n",
    "    \n",
    "    for _ in range(20):\n",
    "\n",
    "        action = np.argmax(q_table[state]) \n",
    "\n",
    "        state, reward, terminated, truncated, info = env.step(action)\n",
    "\n",
    "        if terminated or truncated:\n",
    "            print (\"FOUND\")\n",
    "            break\n",
    "\n",
    "\n",
    "env.close()"
   ]
  },
  {
   "cell_type": "code",
   "execution_count": 10,
   "id": "0b6408cc-8d4f-4aab-84cf-ee4f305ed4a0",
   "metadata": {},
   "outputs": [
    {
     "ename": "NameError",
     "evalue": "name 'StateValues' is not defined",
     "output_type": "error",
     "traceback": [
      "\u001b[1;31m---------------------------------------------------------------------------\u001b[0m",
      "\u001b[1;31mNameError\u001b[0m                                 Traceback (most recent call last)",
      "Cell \u001b[1;32mIn[10], line 5\u001b[0m\n\u001b[0;32m      3\u001b[0m \u001b[38;5;66;03m# Assuming StateValues is your state values list or dictionary\u001b[39;00m\n\u001b[0;32m      4\u001b[0m \u001b[38;5;28;01mwith\u001b[39;00m \u001b[38;5;28mopen\u001b[39m(\u001b[38;5;124m'\u001b[39m\u001b[38;5;124mstate_values.pkl\u001b[39m\u001b[38;5;124m'\u001b[39m, \u001b[38;5;124m'\u001b[39m\u001b[38;5;124mwb\u001b[39m\u001b[38;5;124m'\u001b[39m) \u001b[38;5;28;01mas\u001b[39;00m f:\n\u001b[1;32m----> 5\u001b[0m     pickle\u001b[38;5;241m.\u001b[39mdump(\u001b[43mStateValues\u001b[49m, f)\n",
      "\u001b[1;31mNameError\u001b[0m: name 'StateValues' is not defined"
     ]
    }
   ],
   "source": [
    "import pickle\n",
    "\n",
    "# Assuming StateValues is your state values list or dictionary\n",
    "with open('state_values.pkl', 'wb') as f:\n",
    "    pickle.dump(StateValues, f)"
   ]
  },
  {
   "cell_type": "code",
   "execution_count": null,
   "id": "f588d245-5a2b-46be-b635-7c2fdc920c0f",
   "metadata": {},
   "outputs": [],
   "source": [
    "with open('state_values.pkl', 'rb') as f:\n",
    "    StateValues = pickle.load(f)"
   ]
  }
 ],
 "metadata": {
  "kernelspec": {
   "display_name": "Python 3 (ipykernel)",
   "language": "python",
   "name": "python3"
  },
  "language_info": {
   "codemirror_mode": {
    "name": "ipython",
    "version": 3
   },
   "file_extension": ".py",
   "mimetype": "text/x-python",
   "name": "python",
   "nbconvert_exporter": "python",
   "pygments_lexer": "ipython3",
   "version": "3.9.21"
  }
 },
 "nbformat": 4,
 "nbformat_minor": 5
}
